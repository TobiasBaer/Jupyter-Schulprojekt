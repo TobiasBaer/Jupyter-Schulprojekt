{
 "cells": [
  {
   "cell_type": "markdown",
   "metadata": {},
   "source": [
    "# Ziel der Projekttage\n",
    "\n",
    "* Experimentieren mit Jupyter Notebooks\n",
    "* Kennenlernen der Programiersprache Python\n",
    "* Gestaltung eines interaktiven Physik- oder Mathearbeitsblattes mit Jupyter\n",
    "\n",
    "## Was solltest Du mitbringen\n",
    "\n",
    "* Spass an Informatik / Mathe\n",
    "* Grundkentnisse in Mathematik, Physik\n"
   ]
  },
  {
   "cell_type": "markdown",
   "metadata": {},
   "source": [
    "# Einführung in Jupyter Notebooks\n",
    "\n",
    "Jupyter Notebooks kombinieren Code, Text und Visualisierungen in einem einzigen Dokument. So kann programmiert\n",
    "und gleichzeitig mit Hilfe von Text oder mit Hilfe von Schaubildern erklärt werden.\n",
    "\n",
    "Jupyter Notebooks kann man [jupyter - online](https://jupyter.org/) erstellen und leicht mit anderen Schülern oder später vielleicht deinen Kommilitonen oder Arbeitskollegen teilen.\n",
    "\n",
    "\n",
    "## Hauptmerkmale\n",
    "\n",
    "- **Interaktive Codeausführung**: Schreiben und führen Sie Code in Echtzeit aus. Jupyter unterstützt über 40 Programmiersprachen, darunter **Python**, **R** und **Julia**.\n",
    "- **Unterstützung für Rich Text**: Verwenden Sie Markdown, um formatierten Text, Bilder und Links zu Ihrem Notebook hinzuzufügen.\n",
    "- **Datenvisualisierung**: Integrieren Sie leistungsstarke Datenvisualisierungsbibliotheken wie Matplotlib, Plotly und Bokeh, um interaktive Diagramme und Grafiken zu erstellen.\n",
    "- **Reproduzierbare Forschung**: Teilen Sie Ihre Notebooks mit anderen, um sicherzustellen, dass Ihre Forschung reproduzierbar ist. Notebooks können in verschiedene Formate exportiert werden, einschließlich HTML, PDF und Präsentationen.\n",
    "\n",
    "## Anwendungsfälle\n",
    "\n",
    "- **Datenanalyse**: Durchführung von Datenbereinigung, -transformation und -visualisierung.\n",
    "- **Maschinelles Lernen**: Entwicklung und Testen von Modellen des maschinellen Lernens.\n",
    "- **Bildung**: Erstellen Sie interaktive Tutorials und Lehrmaterialien.\n",
    "- **Wissenschaftliche Forschung**: Dokumentieren und teilen Sie Forschungsergebnisse mit interaktiven Elementen.\n",
    "\n",
    "Jupyter Notebooks werden aufgrund ihrer Vielseitigkeit und Benutzerfreundlichkeit häufig in der Datenwissenschaft, akademischen Forschung und Bildung eingesetzt. Sie bieten eine interaktive Umgebung, in der Sie Codeausführung, Text und Visualisierungen kombinieren können, um umfassende und ansprechende Dokumente zu erstellen.\n"
   ]
  }
 ],
 "metadata": {
  "kernelspec": {
   "display_name": "jupyter",
   "language": "python",
   "name": "python3"
  },
  "language_info": {
   "codemirror_mode": {
    "name": "ipython",
    "version": 3
   },
   "file_extension": ".py",
   "mimetype": "text/x-python",
   "name": "python",
   "nbconvert_exporter": "python",
   "pygments_lexer": "ipython3",
   "version": "3.12.3"
  }
 },
 "nbformat": 4,
 "nbformat_minor": 2
}
